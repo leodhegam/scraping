{
 "cells": [
  {
   "cell_type": "code",
   "execution_count": 2,
   "metadata": {},
   "outputs": [
    {
     "name": "stdout",
     "output_type": "stream",
     "text": [
      "\n",
      "\n",
      "EAJ abre inscrições para projeto do Programa de Residência Profissional Agrícola\n",
      "UFRN reajusta auxílio alimentação de estudantes do interior\n",
      "EAJ abre seleção de bolsistas para Programa de Residência Profissional Agrícola\n",
      "EAJ abre inscrições para processo seletivo de cursos técnicos\n",
      "EAJ divulga edital de processo seletivo para cursos técnicos\n",
      "EAJ-UFRN realiza colação de grau dos cursos de graduação\n",
      "EAJ realiza processo seletivo de mestrado em Ciências Florestais\n",
      "Projeto da EAJ mostra potencial produtivo da carcinicultura\n",
      "Estudantes da EAJ se classificam para nova fase da OBR\n",
      "EAJ é premiada em Congresso Internacional\n",
      "\n",
      "\n",
      "EAJ realiza Mostra Virtual de Profissões\n",
      "EAJ abre oportunidade para incubação de empresas\n",
      "EAJ realiza Audiência Pública para discussão do Plano Diretor da Unidade\n",
      "Projeto da EAJ sobre bem-estar animal capacita professores do ensino básico\n",
      "EAJ promove I Workshop de Arborização\n",
      "EAJ-UFRN realiza o II Simpósio Potiguar em Ciências Florestais\n",
      "EAJ classifica estudantes para a fase final da ONHB\n",
      "EAJ conquista 1ª e 2ª colocação em etapa da Olimpíada de Robótica\n",
      "EAJ inicia processo seletivo para cursos técnicos subsequentes\n",
      "EAJ passa a ofertar Curso Técnico em Cozinha\n",
      "\n",
      "\n",
      "EAJ realiza evento sobre produção e consumo de ovo\n",
      "EAJ estreia programa na web radio sobre temas acadêmicos e gerais\n",
      "EAJ participa de evento de sobre Agricultura Familiar no RN\n",
      "Projeto promove interação da EAJ com agricultores familiares\n",
      "EAJ realiza campanha Setembro Amarelo com ações remotas\n",
      "EAJ implanta Unidade Técnica Demonstrativa de produção de açaí\n",
      "EAJ aprova aluno para 2ª fase da Olimpíada Brasileira de Informática\n",
      "EAJ divulga aprovados no edital de Concessão do Auxílio Instrumental\n",
      "Projeto da EAJ vai realizar diagnóstico situacional dos criadores de leite de cabra do Estado\n",
      "EAJ oferta curso de Aquicultura para alunos de todo país\n",
      "\n",
      "\n",
      "UFRN reajuste auxílio instrumental\n",
      "EAJ desenvolve atividades durante período de distanciamento social\n",
      "EAJ realiza reuniões virtuais para tratar da saúde do servidor\n",
      "EAJ discute modelo de retomada do semestre 2020.1\n",
      "EAJ realiza live cultural Jundiaí: Olhares e canções\n",
      "EAJ regulamenta retorno do período letivo no modelo remoto\n",
      "Alunos da EAJ são beneficiados com Auxílio de Inclusão Digital\n",
      "Projeto Feira Solidária da EAJ ganha apoios e chega a 3ª edição\n",
      "EAJ realiza segunda Feira Solidária para ajudar assentados e pessoas em vulnerabilidade\n",
      "Ação solidária da EAJ ajuda agricultores de Macaíba e comunidade carente de Natal\n",
      "\n",
      "\n",
      "EAJ realiza inscrições para especialização em Gestão Ambiental\n",
      "Aluno da EAJ conquista medalha na Olimpíada Brasileira de Robótica\n",
      "Projeto voador tem continuidade na EAJ\n",
      "Projeto da EAJ que incentiva renda extra começa a ser implantado\n",
      "EAJ emprega tecnologias para produção de mudas e reflorestamento\n",
      "Alunos da EAJ realizam apresentações inspiradas em obras da literatura\n",
      "EAJ realiza I Simpósio Potiguar em Ciências Florestais\n",
      "EAJ utiliza Jiu Jitsu para melhorar qualidade de vida no trabalho\n",
      "EAJ abre seleção para Mestrado em Ciências Florestais\n",
      "Equipe da EAJ vence etapa regional do Ideas For Milk\n",
      "\n",
      "\n",
      "EAJ é classificada para o Desafio de Startups da Embrapa\n",
      "Curso técnico em Informática da EAJ comemora 20 anos\n",
      "EAJ realiza estudo da influência do manejo na produção de produtos apícolas\n",
      "EAJ desenvolve trabalho com comunidades quilombolas e indígenas\n",
      "Por uma aprendizagem teatral: projetos da EAJ inspiram comunidade\n",
      "Palestras e oficinas encerram atividades do Mês do Servidor na EAJ\n",
      "EAJ inicia implantação de modelo de gestão de resíduos orgânicos\n",
      "EAJ promove visita técnica para estudantes da Rede Estadual\n",
      "EAJ incentiva ensino das Ciências Agrárias\n",
      "EAJ promove o Egg Day nesta sexta\n",
      "\n",
      "\n",
      "EAJ oferece Especialização em Gestão Ambiental\n",
      "EAJ integra rede internacional de cooperação entre universidades \n",
      "Projeto de pesquisa da EAJ envolve literatura, debate e reflexão\n",
      "Projeto EAJ realiza diagnóstico em comunidade pesqueira\n",
      "Estudantes da EAJ participam de final da Olimpíada Brasileira de Informática\n",
      "Campanha de prevenção ao suicídio é destaque na EAJ\n",
      "Alunos da EAJ se classificam para Olimpíada Brasileira de Robótica\n",
      "EAJ experimenta novas técnicas de manejo e conservação do solo\n",
      "EAJ recebe inscrições até hoje para cursos técnicos\n",
      "EAJ encerra dia 10 inscrições para cursos técnicos\n",
      "\n",
      "\n",
      "Encontro na EAJ discute interação humano-animal\n",
      "EAJ comemora 10 anos do Curso de Agroindústria com Simpósio\n",
      "Prograd inscreve para curso tecnológico da EAJ\n",
      "PoP-RN seleciona alunos da UFRN, IFRN e EAJ para vagas de bolsistas\n",
      "UFRN assina contrato para obra da Residência da EAJ\n",
      "EAJ está com inscrições abertas para cursos técnicos\n",
      "EAJ realiza oficinas sobre sexualidade para alunos e servidores\n",
      "EAJ recebe comenda por serviços prestados a Caicó através da Rede e-Tec\n",
      "Inscrições em Tecnologias Educacionais da EAJ terminam nesta quarta\n",
      "EAJ realiza terceira edição da Feira de Ciências\n",
      "\n",
      "\n",
      "EAJ abre Inscrições para cursos técnicos Subsequentes\n",
      "EAJ promove workshop sobre agrocomputação\n",
      "Ciências Florestais da EAJ inscreve para curso de Pós-Graduação\n",
      "Ciências Florestais da EAJ inscreve para curso de Pós-Graduação\n",
      "EAJ diploma turma de Análise e Desenvolvimento de Sistemas\n",
      "EAJ certifica jovens em processo de ressocialização através do Pronatec\n",
      "EAJ promove evento sobre Reconhecimento Feminino\n",
      "EAJ realiza inscrições para professores até sexta-feira\n",
      "Matrículas para cursos técnicos da EAJ terminam hoje\n",
      "EAJ seleciona professores para atuação em cursos técnicos\n",
      "\n",
      "\n",
      "EAJ oferta cursos do Pronatec para menores infratores\n",
      "EAJ divulga resultado de seleção para cursos técnicos\n",
      "Comperve divulga resultado parcial para cursos técnicos da EAJ\n",
      "EAJ inicia atividades dos cursos do Pronatec em 15 municípios\n",
      "EAJ inscreve até quinta-feira para cursos do Pronatec\n",
      "Lançamento de livro e Curso na EAJ\n",
      "Abertas as inscrições em cursos Pronatec ofertados pela EAJ\n",
      "EAJ divulga resultado parcial de seleção de profissionais\n",
      "Diretor da EAJ é escolhido para receber Medalha de Mérito\n",
      "EAJ certifica 950 alunos da rede pública pelo Pronatec Jovem Aprendiz\n",
      "\n",
      "\n",
      "EAJ encerra inscrições para contratações temporárias\n",
      "EAJ abre inscrições em cursos para jovens e adultos\n",
      "Comperve divulga local de provas de cursos técnicos da EAJ\n",
      "EAJ abre inscrições para contratação de profissionais\n",
      "EAJ promove Feira de Agricultura Familiar toda quarta-feira\n",
      "Coordenador E-Tec/EAJ fala sobre Execução Orçamentárias a convite do MEC\n",
      "EAJ divulga edital para processo seletivo de cursos técnicos para 2018\n",
      "EAJ seleciona professores mediadores para polos do interior\n",
      "Matrículas em cursos técnicos da EAJ seguem até esta sexta-feira\n",
      "Matrículas em cursos técnicos ofertados pela EAJ seguem até sexta-feira\n",
      "\n",
      "\n",
      "EAJ oferece cursos técnicos para alunos da rede pública\n",
      "Inscrição para profissionais da EAJ encerram nesta terça-feira\n",
      "Professor da EAJ é reconduzido à presidência do FNeTec\n",
      "Inscrições para seleção de professores da EAJ foram prorrogadas\n",
      "Inscrições para seleção de professores da EAJ terminam neste domingo\n",
      "EAJ promove dia de campo para a valorização da agricultura familiar\n",
      "EAJ promove I Encontro de Parcerias em Aquicultura Ornamental\n",
      "EAJ inscreve para os cursos de Agroindústria, Agropecuária e Aquicultura\n",
      "EAJ oferece cursos técnicos a distância para alunos da rede estadual\n",
      "EAJ divulga aprovados em processo seletivo para cursos técnicos\n",
      "\n",
      "\n",
      "EAJ lança revista e-TEC sobre 5 anos do projeto na instituição\n",
      "EAJ é parceira em projeto de equoterapia\n",
      "EAJ divulga resultado de processo seletivo nesta quinta-feira\n",
      "EAJ seleciona professores mediadores de Informática para curso presencial\n",
      "Professor da EAJ é eleito presidente de Fórum da Rede e-Tec Brasil\n",
      "EAJ realiza simpósio sobre cuidados com animais silvestres\n",
      "EAJ recebe Simpósio de Neuroengenharia de 24 a 25 de novembro\n",
      "Inscrições em processo seletivo da EAJ terminam hoje\n",
      "EAJ planeja oferta de cursos do Pronatec em 38 municípios\n",
      "EAJ recebe atividades do Mês do Servidor\n",
      "\n",
      "\n",
      "EAJ realiza fórum sobre Pronatec Jovem Aprendiz\n",
      "EAJ inaugura incubadora no I Encontro de Empreendedorismo\n",
      "Mudança em nome de curso da EAJ amplia campo de atuação\n",
      "EAJ seleciona 69 profissionais para educação semipresencial\n",
      "Alunos da EAJ promovem ação de combate à Dengue\n",
      "Ministério do Planejamento reajusta valores de auxílios a servidores\n",
      "EAJ inicia cadastramento de estudantes classificados para cursos técnicos\n"
     ]
    }
   ],
   "source": [
    "import requests\n",
    "from bs4 import BeautifulSoup\n",
    "from selenium import webdriver\n",
    "import re\n",
    "import time\n",
    "url = 'https://ufrn.br/imprensa/noticias/filtros?text=eaj'\n",
    "driver = webdriver.FirefoxOptions()\n",
    "driver.headless = True\n",
    "driver = webdriver.Firefox()\n",
    "links=[]\n",
    "title=[]\n",
    "resultsDataNotices =[]\n",
    "driver.get(url)\n",
    "for i in range(14):\n",
    "    \n",
    "    soup = BeautifulSoup(driver.page_source,'html.parser')\n",
    "    #procura por todos os links\n",
    "    listLinks = soup.findAll(\"a\",class_='blue-link')\n",
    "    #procura por todos os titulos\n",
    "    \n",
    "    dataNotices = soup.findAll(\"div\",class_=\"block-title\")\n",
    "    \n",
    "    #laço para verificar o número de resultados obtidos na pesquisa\n",
    "    for l in range(len(links)):\n",
    "        #print(links[l])\n",
    "        numberResults = soup.find(\"h1\",{\"id\":'qtd-resultados'}).text.strip('resultados em Notícias')\n",
    "    #print(numberResults)\n",
    "    \n",
    "    #laço para pegar os titulos \n",
    "    for i in range(len(listLinks)):\n",
    "        title.append(listLinks[i].get_text())\n",
    "        print(listLinks[i].get_text())  \n",
    "    \n",
    "    #laço para percorrer e pegar os links , pesquisando por todos os href que contêm imprensa/\n",
    "    for link in soup.findAll('a',class_=\"blue-link\" ,attrs={'href':re.compile(\"^imprensa/\")}):\n",
    "        links.append(link['href'])\n",
    "    #laço para pegar todas as datas das publicações\n",
    "    for i in range(len(dataNotices)):\n",
    "        resultsDataNotices.append(dataNotices[i].get_text().strip('\\n'))\n",
    "        #print(resultsDataNotices)\n",
    "    #linha de comando para percorrer todas as páginas\n",
    "    driver.find_element_by_xpath(\"//a[contains(text(),'>')]\").click()\n",
    "    time.sleep(3)\n",
    "\n",
    "\n",
    "    "
   ]
  },
  {
   "cell_type": "code",
   "execution_count": 4,
   "metadata": {},
   "outputs": [
    {
     "data": {
      "text/plain": [
       "137"
      ]
     },
     "execution_count": 4,
     "metadata": {},
     "output_type": "execute_result"
    }
   ],
   "source": [
    "len(links)"
   ]
  },
  {
   "cell_type": "code",
   "execution_count": 3,
   "metadata": {},
   "outputs": [],
   "source": [
    "text = []\n",
    "for i in range(len(links)):\n",
    "    url = f'https://ufrn.br/{links[i]}'\n",
    "    driver = webdriver.Firefox()\n",
    "    driver.get(url)\n",
    "    content = driver.find_elements_by_css_selector(\"span[style='font-weight: 400;']\")\n",
    "    for i in range(len(content)):\n",
    "         text.append(content[i].text)\n",
    "    driver.close()"
   ]
  },
  {
   "cell_type": "code",
   "execution_count": 7,
   "metadata": {},
   "outputs": [],
   "source": [
    "# salvando em um csv para melhor visualizar os textos\n",
    "import pandas as pd\n",
    "text\n",
    "df = pd.DataFrame(text)\n",
    "df.to_csv(\"texts.csv\",index=False,sep=\";\")\n"
   ]
  },
  {
   "cell_type": "code",
   "execution_count": 124,
   "metadata": {},
   "outputs": [
    {
     "name": "stdout",
     "output_type": "stream",
     "text": [
      "118\n"
     ]
    }
   ],
   "source": [
    "print(len(title))"
   ]
  },
  {
   "cell_type": "code",
   "execution_count": 54,
   "metadata": {},
   "outputs": [
    {
     "data": {
      "image/png": "[encoded data removed]",
      "text/plain": [
       "<Figure size 432x288 with 1 Axes>"
      ]
     },
     "metadata": {
      "needs_background": "light"
     },
     "output_type": "display_data"
    }
   ],
   "source": [
    "#criando nuvem de palavras\n",
    "import matplotlib.pyplot as plt\n",
    "%matplotlib inline\n",
    "import numpy as np\n",
    "from PIL import Image\n",
    "from wordcloud import WordCloud, STOPWORDS\n",
    "STOPWORDS = ['ver','principal','essa','vez','nas','mas',\n",
    "             'qual','principal','ele','ter','doença','pois','este',\n",
    "             'vez','ver principal','artigo principal','já',\n",
    "             'aos','pode','outro','artigo','desse',\n",
    "             'alguns','meio','entre','das','podem','esse',\n",
    "             'seu','também','são','quando','de', 'que','em',\n",
    "             'para','na','ao','mais','por','não','ainda','muito','sua',\n",
    "             'a', 'é', 'o','e','um','dos', 'no','os','nos','do','as','se','como','foi','uma','das','oi','com','da']\n",
    "def create_word_cloud(string):\n",
    "   maskArray = np.array(Image.open(\"cloud.jpg\"))\n",
    "   cloud = WordCloud(background_color = \"#7f6374\", max_font_size=50, max_words = 700, mask = maskArray, stopwords = set(STOPWORDS))\n",
    "   cloud.generate(string)\n",
    "   cloud.to_file(\"wordCloud.png\")\n",
    "   plt.figure()\n",
    "   plt.imshow(cloud, interpolation='bilinear')\n",
    "   plt.axis('off')\n",
    "\n",
    "create_word_cloud(''.join(texto).lower())"
   ]
  },
  {
   "cell_type": "code",
   "execution_count": 43,
   "metadata": {},
   "outputs": [
    {
     "data": {
      "image/png": "[encoded data removed]",
      "text/plain": [
       "<Figure size 432x288 with 1 Axes>"
      ]
     },
     "metadata": {
      "needs_background": "light"
     },
     "output_type": "display_data"
    }
   ],
   "source": [
    "import collections\n",
    "#gerando gráfico de acordo com o ano das publicações\n",
    "data = []\n",
    "for i in range(len(resultsDataNotices)):\n",
    "    frequency = resultsDataNotices[i]\n",
    "    data.append(frequency[-4::])\n",
    "\n",
    "counter=collections.Counter(data)\n",
    "data = counter.keys()\n",
    "frequency = counter.values()\n",
    "\n",
    "plt.title(\"Frequência das noticias por ano de publicação\") \n",
    "plt.bar(data, frequency)\n",
    "plt.show()"
   ]
  }
 ],
 "metadata": {
  "kernelspec": {
   "display_name": "Python 3",
   "language": "python",
   "name": "python3"
  },
  "language_info": {
   "codemirror_mode": {
    "name": "ipython",
    "version": 3
   },
   "file_extension": ".py",
   "mimetype": "text/x-python",
   "name": "python",
   "nbconvert_exporter": "python",
   "pygments_lexer": "ipython3",
   "version": "3.8.5"
  }
 },
 "nbformat": 4,
 "nbformat_minor": 4
}
